{
 "cells": [
  {
   "cell_type": "code",
   "execution_count": 1,
   "metadata": {
    "collapsed": true
   },
   "outputs": [],
   "source": [
    "import tensorflow as tf\n",
    "import matplotlib.pyplot as plt\n",
    "import numpy as np\n",
    "%matplotlib inline"
   ]
  },
  {
   "cell_type": "code",
   "execution_count": 2,
   "metadata": {
    "collapsed": true
   },
   "outputs": [],
   "source": [
    "from tensorflow.examples.tutorials.mnist import input_data"
   ]
  },
  {
   "cell_type": "code",
   "execution_count": 3,
   "metadata": {},
   "outputs": [
    {
     "name": "stdout",
     "output_type": "stream",
     "text": [
      "WARNING:tensorflow:From <ipython-input-3-c09c61f59676>:1: read_data_sets (from tensorflow.contrib.learn.python.learn.datasets.mnist) is deprecated and will be removed in a future version.\n",
      "Instructions for updating:\n",
      "Please use alternatives such as official/mnist/dataset.py from tensorflow/models.\n",
      "WARNING:tensorflow:From E:\\Anaconda-3\\envs\\tfdeeplearning\\lib\\site-packages\\tensorflow\\contrib\\learn\\python\\learn\\datasets\\mnist.py:260: maybe_download (from tensorflow.contrib.learn.python.learn.datasets.base) is deprecated and will be removed in a future version.\n",
      "Instructions for updating:\n",
      "Please write your own downloading logic.\n",
      "WARNING:tensorflow:From E:\\Anaconda-3\\envs\\tfdeeplearning\\lib\\site-packages\\tensorflow\\contrib\\learn\\python\\learn\\datasets\\mnist.py:262: extract_images (from tensorflow.contrib.learn.python.learn.datasets.mnist) is deprecated and will be removed in a future version.\n",
      "Instructions for updating:\n",
      "Please use tf.data to implement this functionality.\n",
      "Extracting official/mnist/dataset.py\\train-images-idx3-ubyte.gz\n",
      "WARNING:tensorflow:From E:\\Anaconda-3\\envs\\tfdeeplearning\\lib\\site-packages\\tensorflow\\contrib\\learn\\python\\learn\\datasets\\mnist.py:267: extract_labels (from tensorflow.contrib.learn.python.learn.datasets.mnist) is deprecated and will be removed in a future version.\n",
      "Instructions for updating:\n",
      "Please use tf.data to implement this functionality.\n",
      "Extracting official/mnist/dataset.py\\train-labels-idx1-ubyte.gz\n",
      "WARNING:tensorflow:From E:\\Anaconda-3\\envs\\tfdeeplearning\\lib\\site-packages\\tensorflow\\contrib\\learn\\python\\learn\\datasets\\mnist.py:110: dense_to_one_hot (from tensorflow.contrib.learn.python.learn.datasets.mnist) is deprecated and will be removed in a future version.\n",
      "Instructions for updating:\n",
      "Please use tf.one_hot on tensors.\n",
      "Extracting official/mnist/dataset.py\\t10k-images-idx3-ubyte.gz\n",
      "Extracting official/mnist/dataset.py\\t10k-labels-idx1-ubyte.gz\n",
      "WARNING:tensorflow:From E:\\Anaconda-3\\envs\\tfdeeplearning\\lib\\site-packages\\tensorflow\\contrib\\learn\\python\\learn\\datasets\\mnist.py:290: DataSet.__init__ (from tensorflow.contrib.learn.python.learn.datasets.mnist) is deprecated and will be removed in a future version.\n",
      "Instructions for updating:\n",
      "Please use alternatives such as official/mnist/dataset.py from tensorflow/models.\n"
     ]
    }
   ],
   "source": [
    "mnist = input_data.read_data_sets(\"official/mnist/dataset.py\", one_hot=True)"
   ]
  },
  {
   "cell_type": "code",
   "execution_count": 4,
   "metadata": {
    "collapsed": true
   },
   "outputs": [],
   "source": [
    "## Initialise weights\n",
    "def init_weights(shape):\n",
    "    init_random_dist = tf.truncated_normal(shape, stddev=0.1)\n",
    "    return tf.Variable(init_random_dist)"
   ]
  },
  {
   "cell_type": "code",
   "execution_count": 5,
   "metadata": {
    "collapsed": true
   },
   "outputs": [],
   "source": [
    "## Initialise bias\n",
    "def init_bias(shape):\n",
    "    init_bias_values = tf.constant(0.1, shape=shape)\n",
    "    return tf.Variable(init_bias_values)"
   ]
  },
  {
   "cell_type": "code",
   "execution_count": 6,
   "metadata": {
    "collapsed": true
   },
   "outputs": [],
   "source": [
    "## Create a 2D convolution function\n",
    "def convTwoDim(x, W):\n",
    "    return tf.nn.conv2d(x, W, strides=[1,1,1,1], padding='SAME')"
   ]
  },
  {
   "cell_type": "code",
   "execution_count": 7,
   "metadata": {
    "collapsed": true
   },
   "outputs": [],
   "source": [
    "def max_pool(x):  ## 2x2 pool function\n",
    "    return tf.nn.max_pool(x, ksize=[1,2,2,1], strides=[1,2,2,1], padding='SAME')"
   ]
  },
  {
   "cell_type": "code",
   "execution_count": 8,
   "metadata": {
    "collapsed": true
   },
   "outputs": [],
   "source": [
    "def convolution_layer(x, shape):\n",
    "    W = init_weights(shape)\n",
    "    b = init_bias([shape[3]])\n",
    "    return tf.nn.sigmoid(convTwoDim(x, W))"
   ]
  },
  {
   "cell_type": "code",
   "execution_count": 23,
   "metadata": {},
   "outputs": [],
   "source": [
    "def fully_connected_layer(input_layer, size):\n",
    "    input_size = int(input_layer.get_shape()[1])\n",
    "    W = init_weights([input_size, size])\n",
    "    b = init_bias([size])\n",
    "    return tf.matmul(input_layer, W) + b"
   ]
  },
  {
   "cell_type": "markdown",
   "metadata": {},
   "source": [
    "## Placeholders"
   ]
  },
  {
   "cell_type": "code",
   "execution_count": 11,
   "metadata": {
    "collapsed": true
   },
   "outputs": [],
   "source": [
    "x = tf.placeholder(tf.float32, shape=[None,784])"
   ]
  },
  {
   "cell_type": "code",
   "execution_count": 12,
   "metadata": {
    "collapsed": true
   },
   "outputs": [],
   "source": [
    "y_true = tf.placeholder(tf.float32, shape=[None,10])"
   ]
  },
  {
   "cell_type": "markdown",
   "metadata": {},
   "source": [
    "## Layers"
   ]
  },
  {
   "cell_type": "code",
   "execution_count": 14,
   "metadata": {
    "collapsed": true
   },
   "outputs": [],
   "source": [
    "x_image = tf.reshape(x, [-1,28,28,1])"
   ]
  },
  {
   "cell_type": "code",
   "execution_count": 16,
   "metadata": {
    "collapsed": true
   },
   "outputs": [],
   "source": [
    "##Layer 1\n",
    "conv_lay_1 = convolution_layer(x_image, shape=[5,5,1,32])\n",
    "conv_lay_1_pool = max_pool(conv_lay_1)"
   ]
  },
  {
   "cell_type": "code",
   "execution_count": 18,
   "metadata": {},
   "outputs": [],
   "source": [
    "##Layer 2\n",
    "conv_lay_2 = convolution_layer(conv_lay_1_pool, shape=[5,5,32,64])\n",
    "conv_lay_2_pool = max_pool(conv_lay_2)"
   ]
  },
  {
   "cell_type": "code",
   "execution_count": 56,
   "metadata": {},
   "outputs": [],
   "source": [
    "conv_2_flat = tf.reshape(conv_lay_2_pool, [-1,7*7*64])\n",
    "full_layer_1 = tf.nn.sigmoid(fully_connected_layer(conv_2_flat, 1024))"
   ]
  },
  {
   "cell_type": "code",
   "execution_count": 57,
   "metadata": {
    "collapsed": true
   },
   "outputs": [],
   "source": [
    "##Drop Out\n",
    "hold_prob = tf.placeholder(tf.float32)\n",
    "full_one_dropout = tf.nn.dropout(full_layer_1, keep_prob=hold_prob)"
   ]
  },
  {
   "cell_type": "code",
   "execution_count": 58,
   "metadata": {
    "collapsed": true
   },
   "outputs": [],
   "source": [
    "y_pred = fully_connected_layer(full_one_dropout, 10)"
   ]
  },
  {
   "cell_type": "code",
   "execution_count": 59,
   "metadata": {},
   "outputs": [],
   "source": [
    "## LOSS FUNCTION\n",
    "cross_entropy =  tf.reduce_mean(tf.nn.softmax_cross_entropy_with_logits_v2(labels=y_true, logits=y_pred))"
   ]
  },
  {
   "cell_type": "code",
   "execution_count": 60,
   "metadata": {
    "collapsed": true
   },
   "outputs": [],
   "source": [
    "## Optimizer\n",
    "optimizer = tf.train.AdamOptimizer(learning_rate=0.001)\n",
    "train = optimizer.minimize(cross_entropy)"
   ]
  },
  {
   "cell_type": "code",
   "execution_count": 61,
   "metadata": {
    "collapsed": true
   },
   "outputs": [],
   "source": [
    "init = tf.global_variables_initializer()"
   ]
  },
  {
   "cell_type": "code",
   "execution_count": 63,
   "metadata": {},
   "outputs": [
    {
     "name": "stdout",
     "output_type": "stream",
     "text": [
      "On step  0\n",
      "Accuracy: \n",
      "0.0982 \n",
      "\n",
      "On step  100\n",
      "Accuracy: \n",
      "0.1009 \n",
      "\n",
      "On step  200\n",
      "Accuracy: \n",
      "0.7399 \n",
      "\n",
      "On step  300\n",
      "Accuracy: \n",
      "0.8871 \n",
      "\n",
      "On step  400\n",
      "Accuracy: \n",
      "0.8922 \n",
      "\n",
      "On step  500\n",
      "Accuracy: \n",
      "0.9191 \n",
      "\n",
      "On step  600\n",
      "Accuracy: \n",
      "0.9348 \n",
      "\n",
      "On step  700\n",
      "Accuracy: \n",
      "0.94 \n",
      "\n",
      "On step  800\n",
      "Accuracy: \n",
      "0.9476 \n",
      "\n",
      "On step  900\n",
      "Accuracy: \n",
      "0.9495 \n",
      "\n",
      "On step  1000\n",
      "Accuracy: \n",
      "0.9543 \n",
      "\n",
      "On step  1100\n",
      "Accuracy: \n",
      "0.9573 \n",
      "\n",
      "On step  1200\n",
      "Accuracy: \n",
      "0.9634 \n",
      "\n",
      "On step  1300\n",
      "Accuracy: \n",
      "0.9601 \n",
      "\n",
      "On step  1400\n",
      "Accuracy: \n",
      "0.9657 \n",
      "\n",
      "On step  1500\n",
      "Accuracy: \n",
      "0.9673 \n",
      "\n",
      "On step  1600\n",
      "Accuracy: \n",
      "0.9702 \n",
      "\n",
      "On step  1700\n",
      "Accuracy: \n",
      "0.9734 \n",
      "\n",
      "On step  1800\n",
      "Accuracy: \n",
      "0.9732 \n",
      "\n",
      "On step  1900\n",
      "Accuracy: \n",
      "0.976 \n",
      "\n",
      "On step  2000\n",
      "Accuracy: \n",
      "0.9716 \n",
      "\n",
      "On step  2100\n",
      "Accuracy: \n",
      "0.9763 \n",
      "\n",
      "On step  2200\n",
      "Accuracy: \n",
      "0.9725 \n",
      "\n",
      "On step  2300\n",
      "Accuracy: \n",
      "0.9783 \n",
      "\n",
      "On step  2400\n",
      "Accuracy: \n",
      "0.978 \n",
      "\n",
      "On step  2500\n",
      "Accuracy: \n",
      "0.9764 \n",
      "\n",
      "On step  2600\n",
      "Accuracy: \n",
      "0.9762 \n",
      "\n",
      "On step  2700\n",
      "Accuracy: \n",
      "0.9787 \n",
      "\n",
      "On step  2800\n",
      "Accuracy: \n",
      "0.9803 \n",
      "\n",
      "On step  2900\n",
      "Accuracy: \n",
      "0.9829 \n",
      "\n",
      "On step  3000\n",
      "Accuracy: \n",
      "0.9813 \n",
      "\n",
      "On step  3100\n",
      "Accuracy: \n",
      "0.9826 \n",
      "\n",
      "On step  3200\n",
      "Accuracy: \n",
      "0.9825 \n",
      "\n",
      "On step  3300\n",
      "Accuracy: \n",
      "0.9815 \n",
      "\n",
      "On step  3400\n",
      "Accuracy: \n",
      "0.984 \n",
      "\n",
      "On step  3500\n",
      "Accuracy: \n",
      "0.9828 \n",
      "\n",
      "On step  3600\n",
      "Accuracy: \n",
      "0.9809 \n",
      "\n",
      "On step  3700\n",
      "Accuracy: \n",
      "0.9838 \n",
      "\n",
      "On step  3800\n",
      "Accuracy: \n",
      "0.9828 \n",
      "\n",
      "On step  3900\n",
      "Accuracy: \n",
      "0.9834 \n",
      "\n",
      "On step  4000\n",
      "Accuracy: \n",
      "0.982 \n",
      "\n",
      "On step  4100\n",
      "Accuracy: \n",
      "0.9833 \n",
      "\n",
      "On step  4200\n",
      "Accuracy: \n",
      "0.9854 \n",
      "\n",
      "On step  4300\n",
      "Accuracy: \n",
      "0.9836 \n",
      "\n",
      "On step  4400\n",
      "Accuracy: \n",
      "0.9828 \n",
      "\n",
      "On step  4500\n",
      "Accuracy: \n",
      "0.9858 \n",
      "\n",
      "On step  4600\n",
      "Accuracy: \n",
      "0.9843 \n",
      "\n",
      "On step  4700\n",
      "Accuracy: \n",
      "0.981 \n",
      "\n",
      "On step  4800\n",
      "Accuracy: \n",
      "0.9848 \n",
      "\n",
      "On step  4900\n",
      "Accuracy: \n",
      "0.9856 \n",
      "\n"
     ]
    }
   ],
   "source": [
    "steps = 5000\n",
    "\n",
    "with tf.Session() as sess:\n",
    "    \n",
    "    sess.run(init)\n",
    "    \n",
    "    for i in range(steps):\n",
    "        batch_x, batch_y = mnist.train.next_batch(50)\n",
    "        sess.run(train, feed_dict={x:batch_x, y_true:batch_y, hold_prob:0.5})\n",
    "        \n",
    "        if i%100 == 0:\n",
    "            print(\"On step \", i)\n",
    "            print(\"Accuracy: \")\n",
    "            matches = tf.equal(tf.argmax(y_pred,1), tf.argmax(y_true,1))\n",
    "            accuracy = tf.reduce_mean(tf.cast(matches, tf.float32))\n",
    "            print(sess.run(accuracy, feed_dict={x:mnist.test.images, y_true:mnist.test.labels, hold_prob:1.0}), \"\\n\")"
   ]
  },
  {
   "cell_type": "code",
   "execution_count": null,
   "metadata": {
    "collapsed": true
   },
   "outputs": [],
   "source": []
  }
 ],
 "metadata": {
  "kernelspec": {
   "display_name": "Python 3",
   "language": "python",
   "name": "python3"
  },
  "language_info": {
   "codemirror_mode": {
    "name": "ipython",
    "version": 3
   },
   "file_extension": ".py",
   "mimetype": "text/x-python",
   "name": "python",
   "nbconvert_exporter": "python",
   "pygments_lexer": "ipython3",
   "version": "3.5.4"
  }
 },
 "nbformat": 4,
 "nbformat_minor": 2
}
